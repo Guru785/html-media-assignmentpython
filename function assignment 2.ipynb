{
 "cells": [
  {
   "cell_type": "code",
   "execution_count": 1,
   "id": "98218fe6-ab19-4517-92e9-706ca7395bf4",
   "metadata": {},
   "outputs": [],
   "source": [
    "# Q1. Create a python program to sort the given list of tuples based on integer value using a lambda function.\n"
   ]
  },
  {
   "cell_type": "code",
   "execution_count": 2,
   "id": "b0df1129-3607-40fe-aa67-62d1d9abdf72",
   "metadata": {},
   "outputs": [],
   "source": [
    "l=[('Sachin Tendulkar', 34357), ('Ricky Ponting', 27483), ('Jack Kallis', 25534), ('Virat Kohli', 24936)]"
   ]
  },
  {
   "cell_type": "code",
   "execution_count": 87,
   "id": "c04a8082-4112-4e83-983b-4fb46eef3a41",
   "metadata": {},
   "outputs": [
    {
     "name": "stdout",
     "output_type": "stream",
     "text": [
      "[('Virat Kohli', 24936), ('Jack Kallis', 25534), ('Ricky Ponting', 27483), ('Sachin Tendulkar', 34357)]\n"
     ]
    }
   ],
   "source": [
    "from functools import reduce\n",
    "l.sort(key=lambda x:x[1])\n",
    "print(l)"
   ]
  },
  {
   "cell_type": "code",
   "execution_count": 9,
   "id": "3ef42825-10c1-4f70-b054-1cbb138faa1e",
   "metadata": {},
   "outputs": [],
   "source": [
    "# Q2. Write a Python Program to find the squares of all the numbers in the given list of integers using\n",
    "#lambda and map functions.\n"
   ]
  },
  {
   "cell_type": "code",
   "execution_count": 10,
   "id": "cf528fca-fa93-4378-9163-b715c4fd7c52",
   "metadata": {},
   "outputs": [],
   "source": [
    "h=[1, 2, 3, 4, 5, 6, 7, 8, 9, 10]"
   ]
  },
  {
   "cell_type": "code",
   "execution_count": 33,
   "id": "9177da67-ad7e-42dc-b27a-28a1ca9f87d8",
   "metadata": {},
   "outputs": [],
   "source": [
    "def sq(x):\n",
    "    return x**2"
   ]
  },
  {
   "cell_type": "code",
   "execution_count": 62,
   "id": "ae54ee86-3895-4470-98af-7d7d2482faac",
   "metadata": {},
   "outputs": [
    {
     "data": {
      "text/plain": [
       "[1, 4, 9, 16, 25, 36, 49, 64, 81, 100]"
      ]
     },
     "execution_count": 62,
     "metadata": {},
     "output_type": "execute_result"
    }
   ],
   "source": [
    "list(map(sq,h))"
   ]
  },
  {
   "cell_type": "code",
   "execution_count": 63,
   "id": "e61b4c67-ab98-4c0f-90fe-5d52ba56cd16",
   "metadata": {},
   "outputs": [],
   "source": [
    "# Q3. Write a python program to convert the given list of integers into a tuple of strings. Use map and\n",
    "# lambda functions"
   ]
  },
  {
   "cell_type": "code",
   "execution_count": 72,
   "id": "7636fd34-eaaa-46a3-95f8-f1c5eeb7d6ac",
   "metadata": {},
   "outputs": [],
   "source": [
    "h=[1, 2, 3, 4, 5, 6, 7, 8, 9, 10]"
   ]
  },
  {
   "cell_type": "code",
   "execution_count": 88,
   "id": "81c7abc0-ac0a-4df6-8910-c2bbc82da0af",
   "metadata": {},
   "outputs": [
    {
     "data": {
      "text/plain": [
       "['1', '2', '3', '4', '5', '6', '7', '8', '9', '10']"
      ]
     },
     "execution_count": 88,
     "metadata": {},
     "output_type": "execute_result"
    }
   ],
   "source": [
    "list(map(lambda x: str(x), h))"
   ]
  },
  {
   "cell_type": "code",
   "execution_count": 89,
   "id": "eaa15a8b-6a0e-4c27-892d-8d57993ef68e",
   "metadata": {},
   "outputs": [],
   "source": [
    "# Q4. Write a python program using reduce function to compute the product of a list containing numbers\n",
    "# from 1 to 25."
   ]
  },
  {
   "cell_type": "code",
   "execution_count": 2,
   "id": "6adf262b-82d0-4860-98b7-8c1dc323267a",
   "metadata": {},
   "outputs": [
    {
     "name": "stdout",
     "output_type": "stream",
     "text": [
      "300\n"
     ]
    }
   ],
   "source": [
    "from functools import reduce \n",
    "\n",
    "nums =range(1,25)\n",
    "product = reduce(lambda x, y: x + y, nums)\n",
    "print(product) \n",
    "    "
   ]
  },
  {
   "cell_type": "code",
   "execution_count": 3,
   "id": "1bf1d9d3-0a40-4a9d-afe5-a24fe4874785",
   "metadata": {},
   "outputs": [],
   "source": [
    "# Q5. Write a python program to filter the numbers in a given list that are divisible by 2 and 3 using the\n",
    "# filter function."
   ]
  },
  {
   "cell_type": "code",
   "execution_count": 4,
   "id": "075b1ac7-b20e-4e52-a978-ecd5191acd61",
   "metadata": {},
   "outputs": [],
   "source": [
    "f=[2, 3, 6, 9, 27, 60, 90, 120, 55, 46]"
   ]
  },
  {
   "cell_type": "code",
   "execution_count": 21,
   "id": "8bd40266-b8a9-4fa3-a553-bae80d7a3e27",
   "metadata": {},
   "outputs": [
    {
     "name": "stdout",
     "output_type": "stream",
     "text": [
      "[2, 3, 6, 9, 27, 60, 90, 120, 46]\n"
     ]
    }
   ],
   "source": [
    "divisible = list (filter (lambda x: (x % 2 == 0 or x% 3 ==0 ),f))\n",
    "print(divisible)"
   ]
  },
  {
   "cell_type": "code",
   "execution_count": 16,
   "id": "dd7e8148-cf62-49dd-8b0f-bb47a29d7427",
   "metadata": {},
   "outputs": [],
   "source": [
    "# Q6. Write a python program to find palindromes in the given list of strings using lambda and filter\n",
    "# function."
   ]
  },
  {
   "cell_type": "code",
   "execution_count": 17,
   "id": "af4c3c7e-89e7-4d1a-91c4-cf27730277fb",
   "metadata": {},
   "outputs": [],
   "source": [
    "p=['python', 'php', 'aba', 'radar', 'level']"
   ]
  },
  {
   "cell_type": "code",
   "execution_count": 20,
   "id": "760ffc2e-7e00-459f-8f97-cda7fc69d241",
   "metadata": {},
   "outputs": [
    {
     "name": "stdout",
     "output_type": "stream",
     "text": [
      "original list of string :\n",
      "['python', 'php', 'aba', 'radar', 'lebel']\n",
      "\n",
      " list of polindromes:\n",
      "['php', 'aba', 'radar', 'lebel']\n"
     ]
    }
   ],
   "source": [
    "p=['python','php','aba','radar','lebel']\n",
    "print(\"original list of string :\")\n",
    "print(p)\n",
    "result=list(filter(lambda x:x==\"\".join (reversed(x)),p))\n",
    "print(\"\\n list of polindromes:\")\n",
    "print(result)"
   ]
  },
  {
   "cell_type": "code",
   "execution_count": null,
   "id": "56ebfd55-6127-48b2-b0ce-ad36e5a89d6e",
   "metadata": {},
   "outputs": [],
   "source": []
  }
 ],
 "metadata": {
  "kernelspec": {
   "display_name": "Python 3 (ipykernel)",
   "language": "python",
   "name": "python3"
  },
  "language_info": {
   "codemirror_mode": {
    "name": "ipython",
    "version": 3
   },
   "file_extension": ".py",
   "mimetype": "text/x-python",
   "name": "python",
   "nbconvert_exporter": "python",
   "pygments_lexer": "ipython3",
   "version": "3.10.8"
  }
 },
 "nbformat": 4,
 "nbformat_minor": 5
}
