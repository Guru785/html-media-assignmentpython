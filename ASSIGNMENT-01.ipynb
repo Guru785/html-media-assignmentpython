{
 "cells": [
  {
   "cell_type": "code",
   "execution_count": 45,
   "id": "e00712d0-9796-4aea-854d-4d53a1424ccf",
   "metadata": {},
   "outputs": [],
   "source": [
    "# Create one variable containing following type of data"
   ]
  },
  {
   "cell_type": "code",
   "execution_count": 46,
   "id": "8550bfae-718a-4a96-b1c0-813711a7d7af",
   "metadata": {},
   "outputs": [],
   "source": [
    "# string \n",
    "a=\"guru\""
   ]
  },
  {
   "cell_type": "code",
   "execution_count": 49,
   "id": "73671563-5ae9-4eee-999a-32c0479637df",
   "metadata": {},
   "outputs": [
    {
     "data": {
      "text/plain": [
       "str"
      ]
     },
     "execution_count": 49,
     "metadata": {},
     "output_type": "execute_result"
    }
   ],
   "source": [
    "a"
   ]
  },
  {
   "cell_type": "code",
   "execution_count": 50,
   "id": "6c485e83-942b-4df1-b6d3-9bd006ebf87a",
   "metadata": {},
   "outputs": [],
   "source": [
    "t=[1,2,3,4,5,6,7,\"gurudev\",True,65.36]"
   ]
  },
  {
   "cell_type": "code",
   "execution_count": 51,
   "id": "a214e6b6-e337-4e24-9879-68e7efc27088",
   "metadata": {},
   "outputs": [
    {
     "data": {
      "text/plain": [
       "list"
      ]
     },
     "execution_count": 51,
     "metadata": {},
     "output_type": "execute_result"
    }
   ],
   "source": [
    "type(t)"
   ]
  },
  {
   "cell_type": "code",
   "execution_count": 52,
   "id": "33a0c6be-ed8b-496b-b40b-d36ff1aefa6c",
   "metadata": {},
   "outputs": [],
   "source": [
    "d=69.36"
   ]
  },
  {
   "cell_type": "code",
   "execution_count": 53,
   "id": "b6415246-1655-49f9-bf0d-c3ece27af92b",
   "metadata": {},
   "outputs": [
    {
     "data": {
      "text/plain": [
       "69.36"
      ]
     },
     "execution_count": 53,
     "metadata": {},
     "output_type": "execute_result"
    }
   ],
   "source": [
    "d"
   ]
  },
  {
   "cell_type": "code",
   "execution_count": 54,
   "id": "99aba2cb-815f-4d9c-9be1-cc045c95e9ff",
   "metadata": {},
   "outputs": [
    {
     "data": {
      "text/plain": [
       "float"
      ]
     },
     "execution_count": 54,
     "metadata": {},
     "output_type": "execute_result"
    }
   ],
   "source": [
    "type(d)"
   ]
  },
  {
   "cell_type": "code",
   "execution_count": 55,
   "id": "0542ae3a-85a0-4b17-82bb-0acbff78475c",
   "metadata": {},
   "outputs": [],
   "source": [
    "# Q2. Given are some following variables containing data:\n"
   ]
  },
  {
   "cell_type": "code",
   "execution_count": 56,
   "id": "0daeeb39-296d-45c0-8295-eae516315613",
   "metadata": {},
   "outputs": [],
   "source": [
    "guru1=' '"
   ]
  },
  {
   "cell_type": "code",
   "execution_count": 58,
   "id": "ade77c01-5dc5-4696-815f-76bbc5abee6f",
   "metadata": {},
   "outputs": [],
   "source": [
    "guru2='[DS,ML,PYTHON]'"
   ]
  },
  {
   "cell_type": "code",
   "execution_count": 59,
   "id": "b5a6fadf-fbeb-46a4-8069-9d6d8e58c718",
   "metadata": {},
   "outputs": [],
   "source": [
    "guru3=['DS','ML','PYTHON']"
   ]
  },
  {
   "cell_type": "code",
   "execution_count": 60,
   "id": "d90fda7a-9f19-4fee-ba53-d1621b2bc54a",
   "metadata": {},
   "outputs": [],
   "source": [
    "guru4=1"
   ]
  },
  {
   "cell_type": "code",
   "execution_count": 61,
   "id": "2e92b3b2-2e1c-42e6-8683-172fad94dbe3",
   "metadata": {},
   "outputs": [
    {
     "data": {
      "text/plain": [
       "str"
      ]
     },
     "execution_count": 61,
     "metadata": {},
     "output_type": "execute_result"
    }
   ],
   "source": [
    "type(guru1)"
   ]
  },
  {
   "cell_type": "code",
   "execution_count": 62,
   "id": "40fe0206-fd35-4584-bfd4-2acda54a00e2",
   "metadata": {},
   "outputs": [
    {
     "data": {
      "text/plain": [
       "str"
      ]
     },
     "execution_count": 62,
     "metadata": {},
     "output_type": "execute_result"
    }
   ],
   "source": [
    "type(guru2)"
   ]
  },
  {
   "cell_type": "code",
   "execution_count": 63,
   "id": "562d754c-a4be-4c07-b860-ba9110c386f9",
   "metadata": {},
   "outputs": [
    {
     "data": {
      "text/plain": [
       "list"
      ]
     },
     "execution_count": 63,
     "metadata": {},
     "output_type": "execute_result"
    }
   ],
   "source": [
    "type(guru3)"
   ]
  },
  {
   "cell_type": "code",
   "execution_count": 64,
   "id": "53dd5a5c-cd35-40bb-925b-eb3d3abc745c",
   "metadata": {},
   "outputs": [
    {
     "data": {
      "text/plain": [
       "int"
      ]
     },
     "execution_count": 64,
     "metadata": {},
     "output_type": "execute_result"
    }
   ],
   "source": [
    "type(guru4)"
   ]
  },
  {
   "cell_type": "code",
   "execution_count": 65,
   "id": "616bd99d-1ac0-4bc5-b756-980a36224996",
   "metadata": {},
   "outputs": [],
   "source": [
    "# Q3. Explain the use of the following operators using an example:"
   ]
  },
  {
   "cell_type": "code",
   "execution_count": 66,
   "id": "509ba085-9685-4d27-b42f-f32ae0f35026",
   "metadata": {},
   "outputs": [
    {
     "data": {
      "text/plain": [
       "2.225"
      ]
     },
     "execution_count": 66,
     "metadata": {},
     "output_type": "execute_result"
    }
   ],
   "source": [
    "89/40"
   ]
  },
  {
   "cell_type": "code",
   "execution_count": 67,
   "id": "74cf29e2-ddcf-4b22-ab67-6ea53c4829e4",
   "metadata": {},
   "outputs": [
    {
     "data": {
      "text/plain": [
       "5"
      ]
     },
     "execution_count": 67,
     "metadata": {},
     "output_type": "execute_result"
    }
   ],
   "source": [
    "45%20"
   ]
  },
  {
   "cell_type": "code",
   "execution_count": 68,
   "id": "3708d4cd-6464-49a8-87c1-829ddfdd0f23",
   "metadata": {},
   "outputs": [
    {
     "data": {
      "text/plain": [
       "15"
      ]
     },
     "execution_count": 68,
     "metadata": {},
     "output_type": "execute_result"
    }
   ],
   "source": [
    "45//3"
   ]
  },
  {
   "cell_type": "code",
   "execution_count": 69,
   "id": "18c1a460-d2ee-4f93-86d0-2f2ee4bf8c79",
   "metadata": {},
   "outputs": [
    {
     "data": {
      "text/plain": [
       "91125"
      ]
     },
     "execution_count": 69,
     "metadata": {},
     "output_type": "execute_result"
    }
   ],
   "source": [
    "45**3"
   ]
  },
  {
   "cell_type": "code",
   "execution_count": 70,
   "id": "1f05d20f-c796-49d4-89bd-9a16f1742d5c",
   "metadata": {},
   "outputs": [],
   "source": [
    "# Q4. Create a list of length 10 of your choice containing multiple types of data. Using for loop print the\n",
    "# element and its data type."
   ]
  },
  {
   "cell_type": "code",
   "execution_count": 75,
   "id": "31516027-bf43-41ec-b9de-bd4fa4de28cb",
   "metadata": {},
   "outputs": [],
   "source": [
    "g=[1,2,3,4,5,6,\"guru\",True,56.22,5+26j]"
   ]
  },
  {
   "cell_type": "code",
   "execution_count": 24,
   "id": "7e587a4b-497c-45b5-a744-60ae1c3490b4",
   "metadata": {},
   "outputs": [
    {
     "name": "stdout",
     "output_type": "stream",
     "text": [
      "1\n",
      "<class 'int'>\n",
      "2\n",
      "<class 'int'>\n",
      "3\n",
      "<class 'int'>\n",
      "4\n",
      "<class 'int'>\n",
      "5\n",
      "<class 'int'>\n",
      "6\n",
      "<class 'int'>\n",
      "guru\n",
      "<class 'str'>\n",
      "True\n",
      "<class 'bool'>\n",
      "56.22\n",
      "<class 'float'>\n",
      "(5+26j)\n",
      "<class 'complex'>\n"
     ]
    }
   ],
   "source": [
    "for i in g:\n",
    "    print (i)\n",
    "    print(type(i))"
   ]
  },
  {
   "cell_type": "code",
   "execution_count": 78,
   "id": "ca6354c9-9328-46ff-a470-3c70f61c671b",
   "metadata": {},
   "outputs": [],
   "source": [
    "# Using a while loop, verify if the number A is purely divisible by number B and if so then how many\n",
    "# times it can be divisible.\n"
   ]
  },
  {
   "cell_type": "code",
   "execution_count": 82,
   "id": "da94bf3e-213b-4680-b8eb-d35ee31b1b7b",
   "metadata": {},
   "outputs": [],
   "source": [
    "# Q6. Create a list containing 25 int type data. Using for loop and if-else condition print if the element is\n",
    "# divisible by 3 or not."
   ]
  },
  {
   "cell_type": "code",
   "execution_count": 7,
   "id": "0b5ea5e7-e24a-48d4-9c91-e6cece908712",
   "metadata": {},
   "outputs": [],
   "source": [
    "t=[1,2,30,4,5,6,7,8,9,170,11,12,1388,14,88,16,17,77,19,20,21,22,575,204,275] "
   ]
  },
  {
   "cell_type": "code",
   "execution_count": 26,
   "id": "cefdbf9c-8b15-4eeb-923d-8ef9b80a345e",
   "metadata": {},
   "outputs": [
    {
     "name": "stdout",
     "output_type": "stream",
     "text": [
      "1 is not divisible by 3\n",
      "2 is not divisible by 3\n",
      "30is divisible by 3\n",
      "4 is not divisible by 3\n",
      "5 is not divisible by 3\n",
      "6is divisible by 3\n",
      "7 is not divisible by 3\n",
      "8 is not divisible by 3\n",
      "9is divisible by 3\n",
      "170 is not divisible by 3\n",
      "11 is not divisible by 3\n",
      "12is divisible by 3\n",
      "1388 is not divisible by 3\n",
      "14 is not divisible by 3\n",
      "88 is not divisible by 3\n",
      "16 is not divisible by 3\n",
      "17 is not divisible by 3\n",
      "77 is not divisible by 3\n",
      "19 is not divisible by 3\n",
      "20 is not divisible by 3\n",
      "21is divisible by 3\n",
      "22 is not divisible by 3\n",
      "575 is not divisible by 3\n",
      "204is divisible by 3\n",
      "275 is not divisible by 3\n"
     ]
    }
   ],
   "source": [
    "for number in t:\n",
    "    if number %3==0:\n",
    "        print (f\"{number}is divisible by 3\")\n",
    "    else:\n",
    "        print (f\"{number} is not divisible by 3\")"
   ]
  },
  {
   "cell_type": "code",
   "execution_count": null,
   "id": "a9edc768-8e0b-48c7-a153-a7893c833471",
   "metadata": {},
   "outputs": [],
   "source": []
  }
 ],
 "metadata": {
  "kernelspec": {
   "display_name": "Python 3 (ipykernel)",
   "language": "python",
   "name": "python3"
  },
  "language_info": {
   "codemirror_mode": {
    "name": "ipython",
    "version": 3
   },
   "file_extension": ".py",
   "mimetype": "text/x-python",
   "name": "python",
   "nbconvert_exporter": "python",
   "pygments_lexer": "ipython3",
   "version": "3.10.8"
  }
 },
 "nbformat": 4,
 "nbformat_minor": 5
}
