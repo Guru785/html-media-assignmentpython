{
 "cells": [
  {
   "cell_type": "code",
   "execution_count": 2,
   "id": "9cc3bcc6-2cdd-41ae-8f1c-a5654bbd1068",
   "metadata": {},
   "outputs": [],
   "source": [
    "# Q1.which keyword is used to create a function ?create a function to return a list of odd numbers in the range of 1 to 25."
   ]
  },
  {
   "cell_type": "code",
   "execution_count": 15,
   "id": "abed3736-008b-4439-aa8d-f11b83b41829",
   "metadata": {},
   "outputs": [],
   "source": [
    "# def keyword used to create a function.\n",
    "def radhe():\n",
    "    l=[]\n",
    "    for i in range (1,26):\n",
    "        if i%2!=0:\n",
    "            l.append(i)\n",
    "    return l"
   ]
  },
  {
   "cell_type": "code",
   "execution_count": 16,
   "id": "3921a38e-15b3-490b-8651-93d61c374140",
   "metadata": {},
   "outputs": [
    {
     "data": {
      "text/plain": [
       "[1, 3, 5, 7, 9, 11, 13, 15, 17, 19, 21, 23, 25]"
      ]
     },
     "execution_count": 16,
     "metadata": {},
     "output_type": "execute_result"
    }
   ],
   "source": [
    "radhe()"
   ]
  },
  {
   "cell_type": "code",
   "execution_count": 24,
   "id": "655b4690-e22e-48db-a9fd-2988a7e67986",
   "metadata": {},
   "outputs": [],
   "source": [
    " # '''Q2. Why *args and **kwargs is used in some functions? Create a function each for *args and **kwargs\n",
    " # to demonstrate their use.'''\n",
    "    \n",
    "    \n",
    "                            # *args function:\n",
    "   # single astaric  you can multiple data or object pass inside pass the function is known as *args .\n",
    "\n",
    "def demonstrate(*args):\n",
    "    return args\n"
   ]
  },
  {
   "cell_type": "code",
   "execution_count": 25,
   "id": "ba9ad951-34b6-4914-8ad0-81fd80a03edf",
   "metadata": {},
   "outputs": [
    {
     "data": {
      "text/plain": [
       "()"
      ]
     },
     "execution_count": 25,
     "metadata": {},
     "output_type": "execute_result"
    }
   ],
   "source": [
    "demonstrate()"
   ]
  },
  {
   "cell_type": "code",
   "execution_count": 32,
   "id": "1417e106-d186-4539-989d-270f86cdfbfe",
   "metadata": {},
   "outputs": [
    {
     "data": {
      "text/plain": [
       "tuple"
      ]
     },
     "execution_count": 32,
     "metadata": {},
     "output_type": "execute_result"
    }
   ],
   "source": [
    "type(demonstrate())"
   ]
  },
  {
   "cell_type": "code",
   "execution_count": 27,
   "id": "8c21a959-3345-48ef-98c0-37aa1412b56a",
   "metadata": {},
   "outputs": [
    {
     "data": {
      "text/plain": [
       "(1, 2, 3, 4, 'guru', 'sisa', [1, 5, 6, 9, 7])"
      ]
     },
     "execution_count": 27,
     "metadata": {},
     "output_type": "execute_result"
    }
   ],
   "source": [
    "demonstrate(1,2,3,4,\"guru\",'sisa',[1,5,6,9,7])"
   ]
  },
  {
   "cell_type": "code",
   "execution_count": 28,
   "id": "240a13da-1be9-40b5-b2a5-68702ed34c6c",
   "metadata": {},
   "outputs": [],
   "source": [
    "                   #  **kwargs  function:-\n",
    "        # double astaric you can multiple key value pass inside the function is kwons as **kwargs.\n",
    "        # same cases multiple parameters are pass inside the function.that case *args and ** kwargs function are  used.\n",
    "def used(**kwargs):\n",
    "    return kwargs"
   ]
  },
  {
   "cell_type": "code",
   "execution_count": 29,
   "id": "77742ff0-c97f-4361-8f4e-88da13527f1c",
   "metadata": {},
   "outputs": [
    {
     "data": {
      "text/plain": [
       "{}"
      ]
     },
     "execution_count": 29,
     "metadata": {},
     "output_type": "execute_result"
    }
   ],
   "source": [
    "used()"
   ]
  },
  {
   "cell_type": "code",
   "execution_count": 31,
   "id": "60c31ae4-38b3-4052-9468-3236351da194",
   "metadata": {},
   "outputs": [
    {
     "data": {
      "text/plain": [
       "dict"
      ]
     },
     "execution_count": 31,
     "metadata": {},
     "output_type": "execute_result"
    }
   ],
   "source": [
    "type (used())"
   ]
  },
  {
   "cell_type": "code",
   "execution_count": 38,
   "id": "2647462b-0126-4d6c-b69a-49e058206d14",
   "metadata": {},
   "outputs": [
    {
     "data": {
      "text/plain": [
       "{'a': [1, 2, 3, 4, 5], 'b': 'sudh', 'c': 36.25, 'd': (1, 2, 3, 4, 5)}"
      ]
     },
     "execution_count": 38,
     "metadata": {},
     "output_type": "execute_result"
    }
   ],
   "source": [
    "used(a=[1,2,3,4,5],b=\"sudh\",c=36.25,d=(1,2,3,4,5))"
   ]
  },
  {
   "cell_type": "code",
   "execution_count": 39,
   "id": "150929df-9dcf-4076-9b82-c58525be3f1d",
   "metadata": {},
   "outputs": [],
   "source": [
    "# Q3. What is an iterator in python? Name the method used to initialise the iterator object and the method\n",
    "# used for iteration. Use these methods to print the first five elements of the given list [2, 4, 6, 8, 10, 12, 14,\n",
    "# 16, 18, 20]."
   ]
  },
  {
   "cell_type": "code",
   "execution_count": 40,
   "id": "6ef3bf8d-8a0e-4f12-a857-743e6ec7ac2e",
   "metadata": {},
   "outputs": [],
   "source": [
    "# which data or object convert into an itrator is is known as iterators.(that's means next and next)\n",
    "    # iterators the method used to initialise:-\n",
    "h=[2, 4, 6, 8, 10, 12, 14,16, 18, 20]\n",
    "h1=iter(h)\n"
   ]
  },
  {
   "cell_type": "code",
   "execution_count": 41,
   "id": "c158164e-2244-4dbd-adca-436196d5c386",
   "metadata": {},
   "outputs": [
    {
     "data": {
      "text/plain": [
       "2"
      ]
     },
     "execution_count": 41,
     "metadata": {},
     "output_type": "execute_result"
    }
   ],
   "source": [
    "next(h1)"
   ]
  },
  {
   "cell_type": "code",
   "execution_count": 42,
   "id": "a60fd03f-1c08-4d21-bf90-d087f989c1c6",
   "metadata": {},
   "outputs": [
    {
     "data": {
      "text/plain": [
       "4"
      ]
     },
     "execution_count": 42,
     "metadata": {},
     "output_type": "execute_result"
    }
   ],
   "source": [
    "next(h1)"
   ]
  },
  {
   "cell_type": "code",
   "execution_count": 43,
   "id": "93193873-a7d5-4df6-a02c-acf4a64c6632",
   "metadata": {},
   "outputs": [
    {
     "data": {
      "text/plain": [
       "6"
      ]
     },
     "execution_count": 43,
     "metadata": {},
     "output_type": "execute_result"
    }
   ],
   "source": [
    "next(h1)"
   ]
  },
  {
   "cell_type": "code",
   "execution_count": 44,
   "id": "427af242-cbf8-49f5-ba92-2e6ef827e605",
   "metadata": {},
   "outputs": [
    {
     "data": {
      "text/plain": [
       "8"
      ]
     },
     "execution_count": 44,
     "metadata": {},
     "output_type": "execute_result"
    }
   ],
   "source": [
    "next(h1)"
   ]
  },
  {
   "cell_type": "code",
   "execution_count": 45,
   "id": "c1e8736e-9af6-4294-bbf0-e66d7e33b281",
   "metadata": {},
   "outputs": [
    {
     "data": {
      "text/plain": [
       "10"
      ]
     },
     "execution_count": 45,
     "metadata": {},
     "output_type": "execute_result"
    }
   ],
   "source": [
    "next(h1)"
   ]
  },
  {
   "cell_type": "code",
   "execution_count": 46,
   "id": "5bd5d157-0309-4744-93c3-71e837f1579c",
   "metadata": {},
   "outputs": [],
   "source": [
    "# Q4. What is a generator function in python? Why yield keyword is used? Give an example of a generator\n",
    "# function."
   ]
  },
  {
   "cell_type": "code",
   "execution_count": 74,
   "id": "6fe80a1e-8e03-471b-8b5a-723b900145ab",
   "metadata": {},
   "outputs": [],
   "source": [
    "'''In a python generators function allows that's behaves like an iterators,\n",
    "providing a facors and eassy way to create a iterators.\n",
    "\n",
    "    \"YIELD KEYWORD \"IS USED TO CREATE A GENERATOR FUNCTION '''\n",
    "def square():\n",
    "    return square"
   ]
  },
  {
   "cell_type": "code",
   "execution_count": 78,
   "id": "f2f3a8ce-b5a5-4bcb-9a81-1223d27165ca",
   "metadata": {},
   "outputs": [],
   "source": [
    "square=(i*i for i in range(5))"
   ]
  },
  {
   "cell_type": "code",
   "execution_count": 80,
   "id": "93522629-592b-41c5-9483-3d8ba51c1d63",
   "metadata": {},
   "outputs": [
    {
     "name": "stdout",
     "output_type": "stream",
     "text": [
      "0\n",
      "1\n",
      "4\n",
      "9\n",
      "16\n"
     ]
    }
   ],
   "source": [
    "for i in square:\n",
    "    print(i)"
   ]
  },
  {
   "cell_type": "code",
   "execution_count": 22,
   "id": "51a10bc8-c017-4bd7-a470-fb97512a3b59",
   "metadata": {},
   "outputs": [],
   "source": [
    "# Q6. Write a python program to print the first 10 Fibonacci numbers using a while loop."
   ]
  },
  {
   "cell_type": "code",
   "execution_count": 49,
   "id": "b73dcef1-8256-4b5d-8dd9-2e5d77a41fff",
   "metadata": {},
   "outputs": [],
   "source": [
    "def fibanac():\n",
    "    a,b = 0,1\n",
    "    while True:\n",
    "        yield a\n",
    "        a,b = b , a+b"
   ]
  },
  {
   "cell_type": "code",
   "execution_count": 50,
   "id": "1986d49d-b878-4f5b-9557-36eb9d028f4b",
   "metadata": {},
   "outputs": [],
   "source": [
    "fib=fibanac()"
   ]
  },
  {
   "cell_type": "code",
   "execution_count": 51,
   "id": "272b0ea9-e0e0-466e-9f5b-c603d9bc2a32",
   "metadata": {},
   "outputs": [
    {
     "name": "stdout",
     "output_type": "stream",
     "text": [
      "0\n",
      "1\n",
      "1\n",
      "2\n",
      "3\n",
      "5\n",
      "8\n",
      "13\n",
      "21\n",
      "34\n"
     ]
    }
   ],
   "source": [
    "for i in range(10):\n",
    "    print(next(fib))"
   ]
  },
  {
   "cell_type": "code",
   "execution_count": 52,
   "id": "80c30673-1341-4b05-8201-290ed1992cee",
   "metadata": {},
   "outputs": [],
   "source": [
    "# Q7. Write a List Comprehension to iterate through the given string: ‘pwskills’.\n",
    "# Expected output: ['p', 'w', 's', 'k', 'i', 'l', 'l', 's']"
   ]
  },
  {
   "cell_type": "code",
   "execution_count": 53,
   "id": "551a89b7-7126-45a7-b537-c43d7b6b5a3d",
   "metadata": {},
   "outputs": [],
   "source": [
    "s=\"guruisa\""
   ]
  },
  {
   "cell_type": "code",
   "execution_count": 54,
   "id": "ca3112ba-1f8b-47a7-849c-9451382be006",
   "metadata": {},
   "outputs": [
    {
     "data": {
      "text/plain": [
       "['G', 'U', 'R', 'U', 'I', 'S', 'A']"
      ]
     },
     "execution_count": 54,
     "metadata": {},
     "output_type": "execute_result"
    }
   ],
   "source": [
    "list(map(lambda s:s.upper(),s))"
   ]
  },
  {
   "cell_type": "code",
   "execution_count": 55,
   "id": "ea8baae7-20e1-484f-ab5b-02e9bc153d38",
   "metadata": {},
   "outputs": [],
   "source": [
    "# Q8. Write a python program to check whether a given number is Palindrome or not using a while loop."
   ]
  },
  {
   "cell_type": "code",
   "execution_count": 59,
   "id": "70341056-fb10-4191-9305-643fe0bfcb39",
   "metadata": {},
   "outputs": [
    {
     "name": "stdout",
     "output_type": "stream",
     "text": [
      "palindrome\n"
     ]
    }
   ],
   "source": [
    "mystr=\"nitin\"\n",
    "mystr=mystr.lower()\n",
    "revstr=reversed(mystr)\n",
    "if list(mystr)==list(revstr):\n",
    "    print(\"palindrome\")\n",
    "else:\n",
    "    print(\" is not a polindrome\")\n"
   ]
  },
  {
   "cell_type": "code",
   "execution_count": 119,
   "id": "21dff1d4-e58d-4c27-8802-09ca7deb09b2",
   "metadata": {},
   "outputs": [],
   "source": [
    "# Q9. Write a code to print odd numbers from 1 to 100 using list comprehension."
   ]
  },
  {
   "cell_type": "code",
   "execution_count": 132,
   "id": "2f17d9b0-b1f2-4ab5-94c8-2053f5429945",
   "metadata": {},
   "outputs": [],
   "source": [
    "l=[]\n",
    "for i in range(1,101):\n",
    "    if type(i)==int:\n",
    "        l.append(i)\n",
    "    else:\n",
    "        if type(i)==float or type(i)==str:\n",
    "            l.append(i)\n",
    "            "
   ]
  },
  {
   "cell_type": "code",
   "execution_count": 133,
   "id": "6f1e11f4-f9ea-4e0b-9365-9f8338fb53a8",
   "metadata": {},
   "outputs": [
    {
     "data": {
      "text/plain": [
       "[1,\n",
       " 2,\n",
       " 3,\n",
       " 4,\n",
       " 5,\n",
       " 6,\n",
       " 7,\n",
       " 8,\n",
       " 9,\n",
       " 10,\n",
       " 11,\n",
       " 12,\n",
       " 13,\n",
       " 14,\n",
       " 15,\n",
       " 16,\n",
       " 17,\n",
       " 18,\n",
       " 19,\n",
       " 20,\n",
       " 21,\n",
       " 22,\n",
       " 23,\n",
       " 24,\n",
       " 25,\n",
       " 26,\n",
       " 27,\n",
       " 28,\n",
       " 29,\n",
       " 30,\n",
       " 31,\n",
       " 32,\n",
       " 33,\n",
       " 34,\n",
       " 35,\n",
       " 36,\n",
       " 37,\n",
       " 38,\n",
       " 39,\n",
       " 40,\n",
       " 41,\n",
       " 42,\n",
       " 43,\n",
       " 44,\n",
       " 45,\n",
       " 46,\n",
       " 47,\n",
       " 48,\n",
       " 49,\n",
       " 50,\n",
       " 51,\n",
       " 52,\n",
       " 53,\n",
       " 54,\n",
       " 55,\n",
       " 56,\n",
       " 57,\n",
       " 58,\n",
       " 59,\n",
       " 60,\n",
       " 61,\n",
       " 62,\n",
       " 63,\n",
       " 64,\n",
       " 65,\n",
       " 66,\n",
       " 67,\n",
       " 68,\n",
       " 69,\n",
       " 70,\n",
       " 71,\n",
       " 72,\n",
       " 73,\n",
       " 74,\n",
       " 75,\n",
       " 76,\n",
       " 77,\n",
       " 78,\n",
       " 79,\n",
       " 80,\n",
       " 81,\n",
       " 82,\n",
       " 83,\n",
       " 84,\n",
       " 85,\n",
       " 86,\n",
       " 87,\n",
       " 88,\n",
       " 89,\n",
       " 90,\n",
       " 91,\n",
       " 92,\n",
       " 93,\n",
       " 94,\n",
       " 95,\n",
       " 96,\n",
       " 97,\n",
       " 98,\n",
       " 99,\n",
       " 100]"
      ]
     },
     "execution_count": 133,
     "metadata": {},
     "output_type": "execute_result"
    }
   ],
   "source": [
    "l"
   ]
  },
  {
   "cell_type": "code",
   "execution_count": 138,
   "id": "8a622d57-59d3-4bfd-9e3d-8327d6c41e53",
   "metadata": {},
   "outputs": [
    {
     "data": {
      "text/plain": [
       "[1,\n",
       " 3,\n",
       " 5,\n",
       " 7,\n",
       " 9,\n",
       " 11,\n",
       " 13,\n",
       " 15,\n",
       " 17,\n",
       " 19,\n",
       " 21,\n",
       " 23,\n",
       " 25,\n",
       " 27,\n",
       " 29,\n",
       " 31,\n",
       " 33,\n",
       " 35,\n",
       " 37,\n",
       " 39,\n",
       " 41,\n",
       " 43,\n",
       " 45,\n",
       " 47,\n",
       " 49,\n",
       " 51,\n",
       " 53,\n",
       " 55,\n",
       " 57,\n",
       " 59,\n",
       " 61,\n",
       " 63,\n",
       " 65,\n",
       " 67,\n",
       " 69,\n",
       " 71,\n",
       " 73,\n",
       " 75,\n",
       " 77,\n",
       " 79,\n",
       " 81,\n",
       " 83,\n",
       " 85,\n",
       " 87,\n",
       " 89,\n",
       " 91,\n",
       " 93,\n",
       " 95,\n",
       " 97,\n",
       " 99]"
      ]
     },
     "execution_count": 138,
     "metadata": {},
     "output_type": "execute_result"
    }
   ],
   "source": [
    "list(filter(lambda x:x%2 !=0,l))"
   ]
  },
  {
   "cell_type": "code",
   "execution_count": null,
   "id": "b23423dc-a285-4e62-b125-b363f8ab1fb3",
   "metadata": {},
   "outputs": [],
   "source": []
  }
 ],
 "metadata": {
  "kernelspec": {
   "display_name": "Python 3 (ipykernel)",
   "language": "python",
   "name": "python3"
  },
  "language_info": {
   "codemirror_mode": {
    "name": "ipython",
    "version": 3
   },
   "file_extension": ".py",
   "mimetype": "text/x-python",
   "name": "python",
   "nbconvert_exporter": "python",
   "pygments_lexer": "ipython3",
   "version": "3.10.8"
  }
 },
 "nbformat": 4,
 "nbformat_minor": 5
}
