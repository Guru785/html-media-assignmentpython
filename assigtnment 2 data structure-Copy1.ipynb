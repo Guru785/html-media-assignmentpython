{
 "cells": [
  {
   "cell_type": "code",
   "execution_count": 1,
   "id": "0f6f741f-9249-443d-87e8-3f47d373fc89",
   "metadata": {},
   "outputs": [],
   "source": [
    "# Q1. How do you comment code in Python? What are the different types of comments?"
   ]
  },
  {
   "cell_type": "code",
   "execution_count": 5,
   "id": "7ad36f1a-cc6b-4273-ab1f-8a7db3bd04b9",
   "metadata": {},
   "outputs": [],
   "source": [
    "# We can write many types of commented codes in Python. There are 3 types of Python comments.\n",
    "#     1-single hash\n",
    "#     2-double hash\n",
    "#     3- triple apostrphe "
   ]
  },
  {
   "cell_type": "code",
   "execution_count": 3,
   "id": "3aed7c2a-a6f8-4b04-b380-a2093f68a385",
   "metadata": {},
   "outputs": [],
   "source": [
    "# Q2. What are variables in Python? How do you declare and assign values to variables?"
   ]
  },
  {
   "cell_type": "code",
   "execution_count": 61,
   "id": "ce51c867-c9e7-43fc-ad22-209d6e88d2e8",
   "metadata": {},
   "outputs": [],
   "source": [
    "# A python variable following types:-\n",
    "#     Intiger variable \n",
    "#     floating variable\n",
    "#     complex variable\n",
    "#     boolean variable \n",
    "#     string variable \n",
    "#     list variable\n",
    "#     set variable\n",
    "#     dictionary variable\n",
    "# assignment operators assign values to variable ."
   ]
  },
  {
   "cell_type": "code",
   "execution_count": 6,
   "id": "d62c97b1-8558-450a-a467-5d9c8207a6d9",
   "metadata": {},
   "outputs": [],
   "source": [
    "# Q3. How do you convert one data type to another in Python?"
   ]
  },
  {
   "cell_type": "code",
   "execution_count": 7,
   "id": "0136cd05-47cb-4342-a8ea-77ba20be599b",
   "metadata": {},
   "outputs": [],
   "source": [
    "# If we want to change the data then we will have to do data casting."
   ]
  },
  {
   "cell_type": "code",
   "execution_count": 63,
   "id": "0013deee-f7a3-4240-82b2-d51c255551aa",
   "metadata": {},
   "outputs": [],
   "source": [
    "# Q4. How do you write and execute a Python script from the command line?"
   ]
  },
  {
   "cell_type": "code",
   "execution_count": 12,
   "id": "546a6c4b-aac7-4544-b6b0-bc3596c24cf2",
   "metadata": {},
   "outputs": [],
   "source": [
    "# Q5. Given a list my_list = [1, 2, 3, 4, 5], write the code to slice the list and obtain the sub-list [2, 3]."
   ]
  },
  {
   "cell_type": "code",
   "execution_count": 13,
   "id": "3a575037-a58b-4242-b7c9-90a0e4107e37",
   "metadata": {},
   "outputs": [],
   "source": [
    "my_list=[1,2,3,4,5]"
   ]
  },
  {
   "cell_type": "code",
   "execution_count": 19,
   "id": "c118f5dd-079b-46bf-bab9-ff1906d6d886",
   "metadata": {},
   "outputs": [
    {
     "data": {
      "text/plain": [
       "[2, 3]"
      ]
     },
     "execution_count": 19,
     "metadata": {},
     "output_type": "execute_result"
    }
   ],
   "source": [
    "my_list[1:3]"
   ]
  },
  {
   "cell_type": "code",
   "execution_count": 28,
   "id": "439c3316-c8c7-4821-b700-7ba2ffc884de",
   "metadata": {},
   "outputs": [],
   "source": [
    "# What is a complex number in mathematics, and how is it represented in Python?"
   ]
  },
  {
   "cell_type": "code",
   "execution_count": 29,
   "id": "1c4b8686-9178-435e-8a97-b1e96f30490e",
   "metadata": {},
   "outputs": [],
   "source": [
    "# combination of both real and imaginary number is known as complex numbers.\n",
    " # it represented in Python\n",
    "# ( 58+4j)"
   ]
  },
  {
   "cell_type": "code",
   "execution_count": 30,
   "id": "19d0bba1-1711-46b0-8c56-19393fec3bb2",
   "metadata": {},
   "outputs": [],
   "source": [
    "# Q7. What is the correct way to declare a variable named age and assign the value 25 to it?"
   ]
  },
  {
   "cell_type": "code",
   "execution_count": 49,
   "id": "70030251-f921-41a5-a494-2168a1157bcc",
   "metadata": {},
   "outputs": [],
   "source": [
    "age=int(25)"
   ]
  },
  {
   "cell_type": "code",
   "execution_count": 32,
   "id": "c12042d1-5a04-4eee-a0e4-831199425cfb",
   "metadata": {},
   "outputs": [
    {
     "data": {
      "text/plain": [
       "25"
      ]
     },
     "execution_count": 32,
     "metadata": {},
     "output_type": "execute_result"
    }
   ],
   "source": [
    "age"
   ]
  },
  {
   "cell_type": "code",
   "execution_count": 33,
   "id": "92a4c759-b0fc-4ffd-b5a1-df5a98613a30",
   "metadata": {},
   "outputs": [],
   "source": [
    "# Q8. Declare a variable named price and assign the value 9.99 to it. What data type does this variable\n",
    "# belong to?"
   ]
  },
  {
   "cell_type": "code",
   "execution_count": 36,
   "id": "77c4bbfd-d9f4-4499-95dc-d2e34b94a412",
   "metadata": {},
   "outputs": [],
   "source": [
    "price=9.99\n",
    "# this variable belong to floating variable."
   ]
  },
  {
   "cell_type": "code",
   "execution_count": 37,
   "id": "d26cd4fc-a6ee-467a-951f-e3779bcaeb6d",
   "metadata": {},
   "outputs": [
    {
     "data": {
      "text/plain": [
       "float"
      ]
     },
     "execution_count": 37,
     "metadata": {},
     "output_type": "execute_result"
    }
   ],
   "source": [
    "type(price)"
   ]
  },
  {
   "cell_type": "code",
   "execution_count": 39,
   "id": "39d81727-29fc-44a3-a2e5-5d953488144c",
   "metadata": {},
   "outputs": [],
   "source": [
    "# Q9. Create a variable named name and assign your full name to it as a string. How would you print the\n",
    "# value of this variable?"
   ]
  },
  {
   "cell_type": "code",
   "execution_count": 52,
   "id": "7e3b35b9-8ea0-4371-963a-2d50a2ea8d52",
   "metadata": {},
   "outputs": [
    {
     "name": "stdout",
     "output_type": "stream",
     "text": [
      "gususisa\n"
     ]
    }
   ],
   "source": [
    "name=(\"gususisa\")\n",
    "print(name)"
   ]
  },
  {
   "cell_type": "code",
   "execution_count": 46,
   "id": "98847561-a307-45cb-b34f-ae9124e2ef61",
   "metadata": {},
   "outputs": [],
   "source": [
    "# Q10. Given the string \"Hello, World!\", extract the substring \"World\"."
   ]
  },
  {
   "cell_type": "code",
   "execution_count": 56,
   "id": "83496b1a-987f-4d35-8d45-3576fe894889",
   "metadata": {},
   "outputs": [],
   "source": [
    "t=\"Hello,World\""
   ]
  },
  {
   "cell_type": "code",
   "execution_count": 57,
   "id": "ded8aaac-0115-4dfe-8435-ffc0df07661b",
   "metadata": {},
   "outputs": [
    {
     "data": {
      "text/plain": [
       "'World'"
      ]
     },
     "execution_count": 57,
     "metadata": {},
     "output_type": "execute_result"
    }
   ],
   "source": [
    "t[6:12]"
   ]
  },
  {
   "cell_type": "code",
   "execution_count": 58,
   "id": "4d42b358-0694-41d5-b450-5f7bed6b212e",
   "metadata": {},
   "outputs": [],
   "source": [
    "# Q11. Create a variable named \"is_student\" and assign it a boolean value indicating whether you are\n",
    "# currently a student or not."
   ]
  },
  {
   "cell_type": "code",
   "execution_count": 60,
   "id": "93be26b7-c099-46fd-bbb4-301837c3bbb4",
   "metadata": {},
   "outputs": [
    {
     "name": "stdout",
     "output_type": "stream",
     "text": [
      "yes\n"
     ]
    }
   ],
   "source": [
    "is_student=\"yes\"\n",
    "print(is_student)"
   ]
  },
  {
   "cell_type": "code",
   "execution_count": null,
   "id": "0f1b0809-2574-4edf-81fa-70ad4f7d7ec2",
   "metadata": {},
   "outputs": [],
   "source": []
  }
 ],
 "metadata": {
  "kernelspec": {
   "display_name": "Python 3 (ipykernel)",
   "language": "python",
   "name": "python3"
  },
  "language_info": {
   "codemirror_mode": {
    "name": "ipython",
    "version": 3
   },
   "file_extension": ".py",
   "mimetype": "text/x-python",
   "name": "python",
   "nbconvert_exporter": "python",
   "pygments_lexer": "ipython3",
   "version": "3.10.8"
  }
 },
 "nbformat": 4,
 "nbformat_minor": 5
}
